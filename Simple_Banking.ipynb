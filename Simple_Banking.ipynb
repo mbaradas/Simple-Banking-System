{
 "cells": [
  {
   "cell_type": "code",
   "execution_count": 40,
   "metadata": {},
   "outputs": [],
   "source": [
    "# Simple Banking System\n",
    "# Source: @amazing.python, https://www.instagram.com/p/CDwL9DRA758/?utm_source=ig_web_button_share_sheet\n",
    "class Account:\n",
    "    def __init__(self, username, password, amount):\n",
    "        self.username = username\n",
    "        self.password = password\n",
    "        self.amount = amount\n",
    "        \n",
    "    def __repr__(self):\n",
    "        return f\"Account({self.username}, {self.amount})\""
   ]
  },
  {
   "cell_type": "code",
   "execution_count": 41,
   "metadata": {},
   "outputs": [],
   "source": [
    "class BankSystem:\n",
    "    def __init__(self):\n",
    "        self.accounts = []\n",
    "    \n",
    "    def create_account(self, username, password, amount):\n",
    "        for i in self.accounts:\n",
    "            if i.username == username:\n",
    "                return \"Username Already Exists\"\n",
    "            \n",
    "        new  = Account(username, password, amount)\n",
    "        self.accounts.append(new)\n",
    "        return \"Account Created Successfully\"\n",
    "    \n",
    "    def get_account(self, username, password):\n",
    "        for i in self.accounts:\n",
    "            if i.username == username and i.password == password:\n",
    "                return i\n",
    "        return False\n",
    "    \n",
    "    def withdraw(self, username, password, amount):\n",
    "        account = self.get_account(username, password)\n",
    "        if account == False:\n",
    "            return \"Invalid Username/Password\"\n",
    "        \n",
    "        if amount > account.amount:\n",
    "            return \"Insufficient Balance\"\n",
    "        \n",
    "        if amount > 0:\n",
    "            account.amount -= amount\n",
    "            return \"Withdrawn Successfully\"\n",
    "        else:\n",
    "            return \"Invalid Amount\"\n",
    "        \n",
    "    def deposit(self, username, password, amount):\n",
    "        account = self.get_account(username, password)\n",
    "        if account == False:\n",
    "            return \"Invalid Username/Password\"\n",
    "        if amount > 0:\n",
    "            account.amount += amount\n",
    "            return \"Deposit Successfull\"\n",
    "        else:\n",
    "            return \"Invalid Amount\""
   ]
  },
  {
   "cell_type": "code",
   "execution_count": 42,
   "metadata": {},
   "outputs": [
    {
     "name": "stdout",
     "output_type": "stream",
     "text": [
      "Account Created Successfully\n",
      "Deposit Successfull\n",
      "Withdrawn Successfully\n"
     ]
    }
   ],
   "source": [
    "BANK = BankSystem()\n",
    "    \n",
    "output = BANK.create_account(username = 'customer', password = 'abc123', amount = 5000)\n",
    "print(output)\n",
    "\n",
    "output = BANK.deposit(username = 'customer', password = 'abc123', amount = 1000)\n",
    "print(output)\n",
    "\n",
    "output = BANK.withdraw(username = 'customer', password = 'abc123', amount = 500)\n",
    "print(output)\n"
   ]
  },
  {
   "cell_type": "code",
   "execution_count": null,
   "metadata": {},
   "outputs": [],
   "source": []
  }
 ],
 "metadata": {
  "kernelspec": {
   "display_name": "Python 3",
   "language": "python",
   "name": "python3"
  },
  "language_info": {
   "codemirror_mode": {
    "name": "ipython",
    "version": 3
   },
   "file_extension": ".py",
   "mimetype": "text/x-python",
   "name": "python",
   "nbconvert_exporter": "python",
   "pygments_lexer": "ipython3",
   "version": "3.7.2"
  }
 },
 "nbformat": 4,
 "nbformat_minor": 2
}
